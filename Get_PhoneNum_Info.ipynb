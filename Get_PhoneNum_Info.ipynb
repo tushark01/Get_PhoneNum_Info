{
  "nbformat": 4,
  "nbformat_minor": 0,
  "metadata": {
    "colab": {
      "name": "Get_PhoneNum_Info.ipynb",
      "provenance": []
    },
    "kernelspec": {
      "name": "python3",
      "display_name": "Python 3"
    },
    "language_info": {
      "name": "python"
    }
  },
  "cells": [
    {
      "cell_type": "code",
      "metadata": {
        "colab": {
          "base_uri": "https://localhost:8080/"
        },
        "id": "LKlAv9yYh1XA",
        "outputId": "e8a14d3f-31f8-43bb-c26a-2046780f9a9b"
      },
      "source": [
        "pip install phonenumbers"
      ],
      "execution_count": 8,
      "outputs": [
        {
          "output_type": "stream",
          "text": [
            "Collecting phonenumbers\n",
            "  Downloading phonenumbers-8.12.29-py2.py3-none-any.whl (2.6 MB)\n",
            "\u001b[K     |████████████████████████████████| 2.6 MB 15.8 MB/s \n",
            "\u001b[?25hInstalling collected packages: phonenumbers\n",
            "Successfully installed phonenumbers-8.12.29\n"
          ],
          "name": "stdout"
        }
      ]
    },
    {
      "cell_type": "code",
      "metadata": {
        "id": "aswExvI5iBMZ"
      },
      "source": [
        "import phonenumbers as ph\n",
        "from phonenumbers import carrier\n",
        "from phonenumbers import geocoder\n",
        "from phonenumbers import timezone"
      ],
      "execution_count": 9,
      "outputs": []
    },
    {
      "cell_type": "code",
      "metadata": {
        "colab": {
          "base_uri": "https://localhost:8080/"
        },
        "id": "rNTVTyRmjtAj",
        "outputId": "1da7ce73-5c6e-40d7-b4c6-6aeabdd94922"
      },
      "source": [
        "number = \"+917354704546\"\n",
        "number = ph.parse(number)\n",
        "print(timezone.time_zones_for_number(number))\n",
        "print(carrier.name_for_number(number, \"en\"))\n",
        "print(geocoder.description_for_number(number, \"en\"))"
      ],
      "execution_count": 13,
      "outputs": [
        {
          "output_type": "stream",
          "text": [
            "('Asia/Calcutta',)\n",
            "Idea\n",
            "India\n"
          ],
          "name": "stdout"
        }
      ]
    }
  ]
}